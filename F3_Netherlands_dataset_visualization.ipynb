{
 "cells": [
  {
   "cell_type": "code",
   "execution_count": 1,
   "id": "f3c75531",
   "metadata": {},
   "outputs": [],
   "source": [
    "import numpy as np\n",
    "train_seismic = np.load('data/train/train_seismic.npy')  # shape (I, X, D)\n",
    "train_labels = np.load('data/train/train_labels.npy')    # same shape"
   ]
  },
  {
   "cell_type": "code",
   "execution_count": 2,
   "id": "43194341",
   "metadata": {},
   "outputs": [
    {
     "data": {
      "application/vnd.jupyter.widget-view+json": {
       "model_id": "1835821e54c64ddba3eb64dbbdba09f0",
       "version_major": 2,
       "version_minor": 0
      },
      "text/plain": [
       "VBox(children=(FloatSlider(value=0.3, description='Threshold:', max=1.0, step=0.05), IntRangeSlider(value=(0, …"
      ]
     },
     "metadata": {},
     "output_type": "display_data"
    },
    {
     "data": {
      "application/vnd.jupyter.widget-view+json": {
       "model_id": "2695db654b0543949fe52e591dd85aac",
       "version_major": 2,
       "version_minor": 0
      },
      "text/plain": [
       "Output()"
      ]
     },
     "metadata": {},
     "output_type": "display_data"
    }
   ],
   "source": [
    "import matplotlib.pyplot as plt\n",
    "import plotly.graph_objs as go\n",
    "import ipywidgets as widgets\n",
    "from IPython.display import display\n",
    "\n",
    "# Duplicate seismic data for cropping\n",
    "seismic_all = train_seismic\n",
    "labels_all = train_labels\n",
    "\n",
    "# Setup colormap \n",
    "cmap = plt.get_cmap('tab20')\n",
    "n_classes = labels_all.max() + 1\n",
    "colors_lookup = (cmap(np.linspace(0, 1, n_classes))[:, :3] * 255).astype(np.uint8)\n",
    "\n",
    "# Volume dimensions\n",
    "X_MAX, Y_MAX, Z_MAX = seismic_all.shape\n",
    "\n",
    "# Interactive plot function\n",
    "def plot_cropped(threshold, x_range, y_range, z_range, sample_every):\n",
    "    x_start, x_end = x_range\n",
    "    y_start, y_end = y_range\n",
    "    z_start, z_end = z_range\n",
    "\n",
    "    # Crop subvolume\n",
    "    seismic = seismic_all[x_start:x_end, y_start:y_end, z_start:z_end]\n",
    "    labels = labels_all[x_start:x_end, y_start:y_end, z_start:z_end]\n",
    "\n",
    "    # Threshold mask\n",
    "    mask = seismic > threshold\n",
    "    points = np.argwhere(mask)\n",
    "    \n",
    "    if len(points) == 0:\n",
    "        print(\"No points exceed threshold in selected region.\")\n",
    "        return\n",
    "\n",
    "    labs = labels[mask]\n",
    "\n",
    "    # === Sampling ===\n",
    "    if sample_every > 1:\n",
    "        sampled_idx = np.arange(0, len(points), sample_every)\n",
    "        points = points[sampled_idx]\n",
    "        labs = labs[sampled_idx]\n",
    "\n",
    "    # Convert labels to RGB color\n",
    "    colors = ['rgb({}, {}, {})'.format(*colors_lookup[label]) for label in labs]\n",
    "\n",
    "    # Restore to global coordinates\n",
    "    scatter = go.Scatter3d(\n",
    "        x=points[:, 0] + x_start,\n",
    "        y=points[:, 1] + y_start,\n",
    "        z=points[:, 2] + z_start,\n",
    "        mode='markers',\n",
    "        marker=dict(size=2, color=colors, opacity=0.8)\n",
    "    )\n",
    "\n",
    "    layout = go.Layout(\n",
    "        title='Seismic Point Cloud Visualization',\n",
    "        scene=dict(\n",
    "            xaxis_title='Inline',\n",
    "            yaxis_title='Crossline',\n",
    "            zaxis_title='Depth',\n",
    "            zaxis=dict(autorange='reversed')\n",
    "            ),\n",
    "        margin=dict(l=0, r=0, b=0, t=50)\n",
    "    )\n",
    "\n",
    "    fig = go.Figure(data=[scatter], layout=layout)\n",
    "    fig.show()\n",
    "\n",
    "# === Widgets ===\n",
    "threshold_slider = widgets.FloatSlider(value=0.3, min=0.0, max=1.0, step=0.05, description='Threshold:')\n",
    "x_slider = widgets.IntRangeSlider(value=[0, 150], min=0, max=X_MAX, step=1, description='Inline:')\n",
    "y_slider = widgets.IntRangeSlider(value=[450, 650], min=0, max=Y_MAX, step=1, description='Crossline:')\n",
    "z_slider = widgets.IntRangeSlider(value=[0, Z_MAX], min=0, max=Z_MAX, step=1, description='Depth:')\n",
    "sample_slider = widgets.IntSlider(value=5, min=1, max=20, step=1, description='Sample Rate:')\n",
    "\n",
    "# === Combine UI ===\n",
    "ui = widgets.VBox([threshold_slider, x_slider, y_slider, z_slider, sample_slider])\n",
    "out = widgets.interactive_output(\n",
    "    plot_cropped,\n",
    "    {\n",
    "        'threshold': threshold_slider,\n",
    "        'x_range': x_slider,\n",
    "        'y_range': y_slider,\n",
    "        'z_range': z_slider,\n",
    "        'sample_every': sample_slider\n",
    "    }\n",
    ")\n",
    "\n",
    "# Display\n",
    "display(ui, out)"
   ]
  }
 ],
 "metadata": {
  "kernelspec": {
   "display_name": "seismic38",
   "language": "python",
   "name": "python3"
  },
  "language_info": {
   "codemirror_mode": {
    "name": "ipython",
    "version": 3
   },
   "file_extension": ".py",
   "mimetype": "text/x-python",
   "name": "python",
   "nbconvert_exporter": "python",
   "pygments_lexer": "ipython3",
   "version": "3.8.20"
  }
 },
 "nbformat": 4,
 "nbformat_minor": 5
}
